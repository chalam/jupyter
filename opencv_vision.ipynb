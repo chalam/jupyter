{
 "cells": [
  {
   "cell_type": "code",
   "execution_count": 2,
   "metadata": {
    "collapsed": false
   },
   "outputs": [
    {
     "ename": "ImportError",
     "evalue": "No module named cv",
     "output_type": "error",
     "traceback": [
      "\u001b[0;31m---------------------------------------------------------------------------\u001b[0m",
      "\u001b[0;31mImportError\u001b[0m                               Traceback (most recent call last)",
      "\u001b[0;32m<ipython-input-2-305887a710d6>\u001b[0m in \u001b[0;36m<module>\u001b[0;34m()\u001b[0m\n\u001b[0;32m----> 1\u001b[0;31m \u001b[1;32mimport\u001b[0m \u001b[0mcv\u001b[0m\u001b[1;33m\u001b[0m\u001b[0m\n\u001b[0m",
      "\u001b[0;31mImportError\u001b[0m: No module named cv"
     ]
    }
   ],
   "source": [
    "import cv\n",
    "# import cv2.cv as cv\n",
    "\n",
    "# http://calebmadrigal.com/facial-detection-opencv-python/\n",
    "# https://github.com/themattrix/panda-watching/tree/master/src"
   ]
  },
  {
   "cell_type": "code",
   "execution_count": 3,
   "metadata": {
    "collapsed": false
   },
   "outputs": [
    {
     "ename": "NameError",
     "evalue": "name 'cv' is not defined",
     "output_type": "error",
     "traceback": [
      "\u001b[0;31m---------------------------------------------------------------------------\u001b[0m",
      "\u001b[0;31mNameError\u001b[0m                                 Traceback (most recent call last)",
      "\u001b[0;32m<ipython-input-3-28c667eb4311>\u001b[0m in \u001b[0;36m<module>\u001b[0;34m()\u001b[0m\n\u001b[1;32m      1\u001b[0m \u001b[1;33m\u001b[0m\u001b[0m\n\u001b[1;32m      2\u001b[0m \u001b[1;33m\u001b[0m\u001b[0m\n\u001b[0;32m----> 3\u001b[0;31m \u001b[0mcv\u001b[0m\u001b[1;33m.\u001b[0m\u001b[0mNamedWindow\u001b[0m\u001b[1;33m(\u001b[0m\u001b[1;34m\"w1\"\u001b[0m\u001b[1;33m,\u001b[0m \u001b[0mcv\u001b[0m\u001b[1;33m.\u001b[0m\u001b[0mCV_WINDOW_AUTOSIZE\u001b[0m\u001b[1;33m)\u001b[0m\u001b[1;33m\u001b[0m\u001b[0m\n\u001b[0m\u001b[1;32m      4\u001b[0m \u001b[1;33m\u001b[0m\u001b[0m\n\u001b[1;32m      5\u001b[0m \u001b[0mcamera_index\u001b[0m \u001b[1;33m=\u001b[0m \u001b[1;36m0\u001b[0m\u001b[1;33m\u001b[0m\u001b[0m\n",
      "\u001b[0;31mNameError\u001b[0m: name 'cv' is not defined"
     ]
    }
   ],
   "source": [
    "# Capturing an images from a webcam\n",
    "\n",
    "cv.NamedWindow(\"w1\", cv.CV_WINDOW_AUTOSIZE)\n",
    "\n",
    "camera_index = 0\n",
    "capture = cv.CaptureFromCAM(camera_index)\n",
    "\n",
    "frame = cv.QueryFrame(capture)\n",
    "cv.SaveImage(\"pic.jpg\", frame)"
   ]
  },
  {
   "cell_type": "code",
   "execution_count": null,
   "metadata": {
    "collapsed": true
   },
   "outputs": [],
   "source": [
    "# Displaying live video\n",
    "\n",
    "CAMERA_INDEX = 0\n",
    "\n",
    "cv.NamedWindow(\"Video\", cv.CV_WINDOW_AUTOSIZE)\n",
    "capture = cv.CaptureFromCAM(CAMERA_INDEX)\n",
    "\n",
    "while True:\n",
    "    frame = cv.QueryFrame(capture)\n",
    "    cv.ShowImage(\"w1\", frame)"
   ]
  },
  {
   "cell_type": "code",
   "execution_count": null,
   "metadata": {
    "collapsed": true
   },
   "outputs": [],
   "source": [
    "# Facial Detection with OpenCV and Python\n",
    "\n",
    "# HAAR_CASCADE_PATH = \"/opt/local/share/OpenCV/haarcascades/haarcascade_frontalface_default.xml\"\n",
    "HAAR_CASCADE_PATH = \"c:\\OpenCV2.1\\data\\haarcascades\\haarcascade_frontalface_default.xml\"\n",
    "\n",
    "\n",
    "CAMERA_INDEX = 0\n",
    "\n",
    "def detect_faces(image):\n",
    "    faces = []\n",
    "    detected = cv.HaarDetectObjects(image, cascade, storage, 1.2, 2, cv.CV_HAAR_DO_CANNY_PRUNING, (100,100))\n",
    "    if detected:\n",
    "        for (x,y,w,h),n in detected:\n",
    "            faces.append((x,y,w,h))\n",
    "    return faces\n",
    "\n",
    "if __name__ == \"__main__\":\n",
    "    cv.NamedWindow(\"Video\", cv.CV_WINDOW_AUTOSIZE)\n",
    "\n",
    "    capture = cv.CaptureFromCAM(CAMERA_INDEX)\n",
    "    storage = cv.CreateMemStorage()\n",
    "    cascade = cv.Load(HAAR_CASCADE_PATH)\n",
    "    faces = []\n",
    "\n",
    "    i = 0\n",
    "    c = -1\n",
    "# while (c == -1):\n",
    "    while True:\n",
    "        image = cv.QueryFrame(capture)\n",
    "\n",
    "        # Only run the Detection algorithm every 5 frames to improve performance\n",
    "        if i%5==0:\n",
    "            faces = detect_faces(image)\n",
    "\n",
    "        for (x,y,w,h) in faces:\n",
    "            cv.Rectangle(image, (x,y), (x+w,y+h), 255)\n",
    "\n",
    "        cv.ShowImage(\"w1\", image)\n",
    "        i += 1\n",
    "        c = cv.WaitKey(10)"
   ]
  }
 ],
 "metadata": {
  "kernelspec": {
   "display_name": "Python 2",
   "language": "python",
   "name": "python2"
  },
  "language_info": {
   "codemirror_mode": {
    "name": "ipython",
    "version": 2
   },
   "file_extension": ".py",
   "mimetype": "text/x-python",
   "name": "python",
   "nbconvert_exporter": "python",
   "pygments_lexer": "ipython2",
   "version": "2.7.11"
  }
 },
 "nbformat": 4,
 "nbformat_minor": 2
}
